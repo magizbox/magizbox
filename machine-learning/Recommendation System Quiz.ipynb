{
 "cells": [
  {
   "cell_type": "markdown",
   "metadata": {},
   "source": [
    "**1.** Suppose you run a bookstore, and have ratings (1 to 5 stars) of books.\n",
    "\n",
    "Your collaborative filtering algorithm has learned a parameter vector $θ^{(j)}$ for user $j$, and a feature vector $x^{(i)}$ for each book.\n",
    "\n",
    "You would like to compute the \"training error\", meaning the average squared error of your system's predictions on all the ratings that you have gotten from your users. Which of these are correct ways of doing so (check all that apply)?\n",
    "\n",
    "For this problem, let $m$ be the total number of ratings you have gotten from your users.\n",
    "\n",
    "(Another way of saying this is that $m=\\sum^{n_m}_{i=1} \\sum^ {n_u}_{j=1} r(i,j)$).\n",
    "\n",
    "[Hint: Two of the four options below are correct.]\n",
    "\n",
    "1. $\\frac{1}{m} ∑_{(i,j):r(i,j)=1} ((θ^{(j)})^T x^{(i)}−r(i,j))^2$\n",
    "\n",
    "* $\\frac{1}{m} ∑^{n_m}_{i=1} ∑_{j:r(i,j)=1} (∑^n_{k=1} (θ^{(j)})_k x^{(i)}_{k} − y^{(i,j)})^2$\n",
    "\n",
    "* $\\frac{1}{m} ∑^{n_u}_{j=1} ∑_{i:r(i,j)=1} (∑^n_{k=1} (θ^{(k)})_j x^{(k)}_i − y^{(i,j)})^2$\n",
    "\n",
    "* $\\frac{1}{m} ∑_{(i,j):r(i,j)=1} ((θ^{(j)})^T x^{(i)} − y^{(i,j)})^2$"
   ]
  },
  {
   "cell_type": "markdown",
   "metadata": {},
   "source": [
    "**2.** In which of the following situations will a collaborative filtering system be the most appropriate learning algorithm (compared to linear or logistic regression)?\n",
    "\n",
    "1. You're an artist and hand-paint portraits for your clients. Each client gets a different portrait (of themselves) and gives you 1-5 star rating feedback, and each client purchases at most 1 portrait. You'd like to predict what rating your next customer will give you.\n",
    "* You own a clothing store that sells many styles and brands of jeans. You have collected reviews of the different styles and brands from frequent shoppers, and you want to use these reviews to offer those shoppers discounts on the jeans you think they are most likely to purchase\n",
    "* You manage an online bookstore and you have the book ratings from many users. You want to learn to predict the expected sales volume (number of books sold) as a function of the average rating of a book.\n",
    "* You run an online bookstore and collect the ratings of many users. You want to use this to identify what books are \"similar\" to each other (i.e., if one user likes a certain book, what are other books that she might also like?)"
   ]
  },
  {
   "cell_type": "markdown",
   "metadata": {},
   "source": [
    "**3.** You run a movie empire, and want to build a movie recommendation system based on collaborative filtering. There were three popular review websites (which we'll call A, B and C) which users to go to rate movies, and you have just acquired all three companies that run these websites. You'd like to merge the three companies' datasets together to build a single/unified system.\n",
    "* On website A, users rank a movie as having 1 through 5 stars. * On website B, users rank on a scale of 1 - 10, and decimal values (e.g., 7.5) are allowed.\n",
    "* On website C, the ratings are from 1 to 100.\n",
    "\n",
    "You also have enough information to identify users/movies on one website with users/movies on a different website.\n",
    "\n",
    "Which of the following statements is true?\n",
    "\n",
    "1. You can merge the three datasets into one, but you should first normalize each dataset's ratings (say rescale each dataset's ratings to a 1-100 range).\n",
    "* It is not possible to combine these websites' data. You must build three separate recommendation systems.\n",
    "* You can combine all three training sets into one without any modification and expect high performance from a recommendation system.\n",
    "* Assuming that there is at least one movie/user in one database that doesn't also appear in a second database, there is no sound way to merge the datasets, because of the missing data."
   ]
  },
  {
   "cell_type": "markdown",
   "metadata": {},
   "source": [
    "**4.** Which of the following are true of collaborative filtering systems? Check all that apply.\n",
    "\n",
    "1. To use collaborative filtering, you need to manually design a feature vector for every item (e.g., movie) in your dataset, that describes that item's most important properties.\n",
    "* When using gradient descent to train a collaborative filtering system, it is okay to initialize all the parameters ($x^{(i)}$ and $θ^{(j)}$) to zero.\n",
    "* Recall that the cost function for the content-based recommendation system is\n",
    "  * $J(θ)= \\frac{1}{2} ∑^{n_u}_{j=1}∑_{i:r(i,j)=1} ((θ^{(j)})^T x^{(i)}− y^{(i,j)})^2 + \\frac{λ}{2}  ∑^{n_u}_{j=1}∑^{n}_{k=1}(θ^{(i)}_k)^2$.\n",
    "  * Suppose there is only one user and he has rated every movie in the training set.\n",
    "  * This implies that $n_u=1$ and $r(i,j)=1$ for every $i,j$.\n",
    "  * In this case, the cost function $J(θ)$ is equivalent to the one used for regularized linear regression.\n",
    "* If you have a dataset of user ratings on some products, you can uses these to predict one user's preferences on products he has not rated."
   ]
  },
  {
   "cell_type": "markdown",
   "metadata": {},
   "source": [
    "**5.** Suppose you have two matrices $A$ and $B$, where $A$ is 5x3 and $B$ is 3x5. Their product is $C=AB$, a 5x5 matrix.\n",
    "\n",
    "Furthermore, you have a 5x5 matrix $R$ where every entry is 0 or 1.\n",
    "\n",
    "You want to find the sum of all elements $C(i,j)$ for which the corresponding $R(i,j)$ is 1, and ignore all elements $C(i,j)$ where $R(i,j)=0$.\n",
    "\n",
    "One way to do so is the following code:\n",
    "\n",
    "![](https://d3c33hcgiwev3.cloudfront.net/22QhMb55EeShsSIACwKbzw_Screen-Shot-2015-02-27-at-4.05.35-AM.png?Expires=1454371200&Signature=E48jRKzN8EheX1Cz-w4LdMXgWJ8PFrDpbVnROr4MPRrwS66wcBMn7l5rc~z1KgNW53lNCN7bfo2h3hmt5DE49To8sAogzhSqLa~HtzK-FQ1fFOl7n74xOrtvOotQxR6984Gek~oJZY-VDqc-iWZBEdSPu52g3FzT-4MMR7s4Nks_&Key-Pair-Id=APKAJLTNE6QMUY6HBC5A)\n",
    "\n",
    "Which of the following pieces of Octave code will also correctly compute this total? Check all that apply. Assume all options are in code.\n",
    "\n",
    "1. `total = sum(sum((A * B) .* R))`\n",
    "\n",
    "* `C = A * B; total = sum(sum(C(R == 1)));`\n",
    "\n",
    "* `C = (A * B) * R; total = sum(C(:));`\n",
    "\n",
    "* `total = sum(sum(A(R == 1) * B(R == 1));`"
   ]
  },
  {
   "cell_type": "markdown",
   "metadata": {},
   "source": [
    "## Answers"
   ]
  },
  {
   "cell_type": "markdown",
   "metadata": {},
   "source": [
    "**1.** Options: 2 and 4\n",
    "\n",
    "* $\\frac{1}{m} ∑^{n_m}_{i=1} ∑_{j:r(i,j)=1} (∑^n_{k=1} (θ^{(j)})_k x^{(i)}_{k} − y^{(i,j)})^2$\n",
    "\n",
    "\n",
    "* $\\frac{1}{m} ∑_{(i,j):r(i,j)=1} ((θ^{(j)})^T x^{(i)} − y^{(i,j)})^2$\n",
    "\n",
    "**2.** Options: 2 and 4\n",
    "\n",
    "* You own a clothing store that sells many styles and brands of jeans. You have collected reviews of the different styles and brands from frequent shoppers, and you want to use these reviews to offer those shoppers discounts on the jeans you think they are most likely to purchase\n",
    "* You run an online bookstore and collect the ratings of many users. You want to use this to identify what books are \"similar\" to each other (i.e., if one user likes a certain book, what are other books that she might also like?)\n",
    "\n",
    "**3.** Option 1\n",
    "\n",
    "* You can merge the three datasets into one, but you should first normalize each dataset's ratings (say rescale each dataset's ratings to a 1-100 range).\n",
    "\n",
    "**4.** Option 3, 4\n",
    "\n",
    "* Recall that the cost function for the content-based recommendation system is\n",
    "  * $J(θ)= \\frac{1}{2} ∑^{n_u}_{j=1}∑_{i:r(i,j)=1} ((θ^{(j)})^T x^{(i)}− y^{(i,j)})^2 + \\frac{λ}{2}  ∑^{n_u}_{j=1}∑^{n}_{k=1}(θ^{(i)}_k)^2$.\n",
    "  * Suppose there is only one user and he has rated every movie in the training set.\n",
    "  * This implies that $n_u=1$ and $r(i,j)=1$ for every $i,j$.\n",
    "  * In this case, the cost function $J(θ)$ is equivalent to the one used for regularized linear regression.\n",
    "* If you have a dataset of user ratings on some products, you can uses these to predict one user's preferences on products he has not rated.\n",
    "\n",
    "**5.** Options 1, 2\n",
    "\n",
    "* `total = sum(sum((A * B) .* R))`\n",
    "* `C = A * B; total = sum(sum(C(R == 1)));`"
   ]
  },
  {
   "cell_type": "code",
   "execution_count": null,
   "metadata": {
    "collapsed": true
   },
   "outputs": [],
   "source": []
  }
 ],
 "metadata": {
  "kernelspec": {
   "display_name": "Python 2",
   "language": "python",
   "name": "python2"
  },
  "language_info": {
   "codemirror_mode": {
    "name": "ipython",
    "version": 2
   },
   "file_extension": ".py",
   "mimetype": "text/x-python",
   "name": "python",
   "nbconvert_exporter": "python",
   "pygments_lexer": "ipython2",
   "version": "2.7.10"
  }
 },
 "nbformat": 4,
 "nbformat_minor": 0
}
